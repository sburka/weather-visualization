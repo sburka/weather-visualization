{
 "cells": [
  {
   "cell_type": "code",
   "execution_count": 24,
   "id": "d9e8b5b4",
   "metadata": {},
   "outputs": [],
   "source": [
    "import pandas as pd\n",
    "import datetime"
   ]
  },
  {
   "cell_type": "code",
   "execution_count": 43,
   "id": "bf51f59c",
   "metadata": {},
   "outputs": [],
   "source": [
    "clt_data = pd.read_csv(\"data/CLT.csv\")\n",
    "clt_data[\"city\"] = \"CLT\"\n",
    "\n",
    "cqt_data = pd.read_csv(\"data/CQT.csv\")\n",
    "cqt_data[\"city\"] = \"CQT\"\n",
    "\n",
    "ind_data = pd.read_csv(\"data/IND.csv\")\n",
    "ind_data[\"city\"] = \"IND\"\n",
    "\n",
    "jax_data = pd.read_csv(\"data/JAX.csv\")\n",
    "jax_data[\"city\"] = \"JAX\"\n",
    "\n",
    "mdw_data = pd.read_csv(\"data/MDW.csv\")\n",
    "mdw_data[\"city\"] = \"MDW\"\n",
    "\n",
    "phl_data = pd.read_csv(\"data/PHL.csv\")\n",
    "phl_data[\"city\"] = \"PHL\"\n",
    "\n",
    "phx_data = pd.read_csv(\"data/PHX.csv\")\n",
    "phx_data[\"city\"] = \"PHX\"\n",
    "\n",
    "khou_data = pd.read_csv(\"data/KHOU.csv\")\n",
    "khou_data[\"city\"] = \"KHOU\"\n",
    "\n",
    "knyc_data = pd.read_csv(\"data/KNYC.csv\")\n",
    "knyc_data[\"city\"] = \"KNYC\"    \n",
    "\n",
    "ksea_data = pd.read_csv(\"data/KSEA.csv\")\n",
    "ksea_data[\"city\"] = \"KSEA\""
   ]
  },
  {
   "cell_type": "code",
   "execution_count": 65,
   "id": "4eb06657",
   "metadata": {},
   "outputs": [],
   "source": [
    "format = '%Y-%m-%d'\n",
    "input = knyc_data[\"date\"]\n",
    "months = []\n",
    "\n",
    "for i in input:\n",
    "    fullDate = datetime.datetime.strptime(i, format).date()\n",
    "    months.append(fullDate.month)\n",
    "    \n",
    "knyc_data[\"month\"] = months\n",
    "new = knyc_data[[\"month\", \"actual_precipitation\"]]\n",
    "new = new.groupby('month')[\"actual_precipitation\"].mean()\n"
   ]
  },
  {
   "cell_type": "code",
   "execution_count": 66,
   "id": "3d133b27",
   "metadata": {},
   "outputs": [
    {
     "data": {
      "text/plain": [
       "month\n",
       "1     0.168710\n",
       "2     0.072857\n",
       "3     0.152258\n",
       "4     0.069333\n",
       "5     0.060000\n",
       "6     0.158333\n",
       "7     0.180323\n",
       "8     0.072581\n",
       "9     0.040333\n",
       "10    0.186129\n",
       "11    0.150333\n",
       "12    0.194839\n",
       "Name: actual_precipitation, dtype: float64"
      ]
     },
     "execution_count": 66,
     "metadata": {},
     "output_type": "execute_result"
    }
   ],
   "source": [
    "new"
   ]
  },
  {
   "cell_type": "code",
   "execution_count": 67,
   "id": "b66a9291",
   "metadata": {},
   "outputs": [],
   "source": [
    "new.to_csv(\"new_precip.csv\")"
   ]
  },
  {
   "cell_type": "code",
   "execution_count": 34,
   "id": "94c3867a",
   "metadata": {},
   "outputs": [],
   "source": []
  },
  {
   "cell_type": "code",
   "execution_count": null,
   "id": "f37d261b",
   "metadata": {},
   "outputs": [],
   "source": []
  }
 ],
 "metadata": {
  "kernelspec": {
   "display_name": "Python 3 (ipykernel)",
   "language": "python",
   "name": "python3"
  },
  "language_info": {
   "codemirror_mode": {
    "name": "ipython",
    "version": 3
   },
   "file_extension": ".py",
   "mimetype": "text/x-python",
   "name": "python",
   "nbconvert_exporter": "python",
   "pygments_lexer": "ipython3",
   "version": "3.9.16"
  }
 },
 "nbformat": 4,
 "nbformat_minor": 5
}
